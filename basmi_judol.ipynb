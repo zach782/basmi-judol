{
 "cells": [
  {
   "cell_type": "code",
   "execution_count": 9,
   "metadata": {},
   "outputs": [],
   "source": [
    "import os\n",
    "import re\n",
    "import google_auth_oauthlib.flow\n",
    "import googleapiclient.discovery\n",
    "import googleapiclient.errors"
   ]
  },
  {
   "cell_type": "code",
   "execution_count": 10,
   "metadata": {},
   "outputs": [],
   "source": [
    "# File credentials OAuth yang kamu download\n",
    "CLIENT_SECRETS_FILE = \"client_secret_1088100787674-kdeuavsdvjhpa23a2m2rvr7aukaq5l5o.apps.googleusercontent.com.json\"\n",
    "\n",
    "# Scopes yang dibutuhkan untuk mengakses dan moderasi komentar\n",
    "SCOPES = [\"https://www.googleapis.com/auth/youtube.force-ssl\"]"
   ]
  },
  {
   "cell_type": "code",
   "execution_count": 11,
   "metadata": {},
   "outputs": [],
   "source": [
    "# Daftar kata kunci spam\n",
    "SPAM_KEYWORDS = [\n",
    "    \"judi\", \"slot\", \"gacor\", \"link gacor\", \"togel\", \"bo slot\", \"agen slot\", \n",
    "    \"deposit pulsa\", \"slot online\", \"slot pakai dana\", \"toto macau\"\n",
    "]"
   ]
  },
  {
   "cell_type": "code",
   "execution_count": 12,
   "metadata": {},
   "outputs": [
    {
     "name": "stdout",
     "output_type": "stream",
     "text": [
      "Please visit this URL to authorize this application: https://accounts.google.com/o/oauth2/auth?response_type=code&client_id=1088100787674-kdeuavsdvjhpa23a2m2rvr7aukaq5l5o.apps.googleusercontent.com&redirect_uri=http%3A%2F%2Flocalhost%3A60847%2F&scope=https%3A%2F%2Fwww.googleapis.com%2Fauth%2Fyoutube.force-ssl&state=LLnrs64WSPaooET9ivijFJdu0i4inI&access_type=offline\n",
      "🚫 Komentar spam terdeteksi: ayo join slot gacor pakai dana!\n",
      "✅ Komentar berhasil dihapus\n"
     ]
    }
   ],
   "source": [
    "def is_spam(comment_text):\n",
    "    for keyword in SPAM_KEYWORDS:\n",
    "        if re.search(rf'\\b{keyword}\\b', comment_text, re.IGNORECASE):\n",
    "            return True\n",
    "    return False\n",
    "\n",
    "def main():\n",
    "    # Autentikasi via browser\n",
    "    flow = google_auth_oauthlib.flow.InstalledAppFlow.from_client_secrets_file(\n",
    "        CLIENT_SECRETS_FILE, SCOPES)\n",
    "    # credentials = flow.run_console()\n",
    "    credentials = flow.run_local_server(port=0)\n",
    "\n",
    "\n",
    "    # Build YouTube API client\n",
    "    youtube = googleapiclient.discovery.build(\"youtube\", \"v3\", credentials=credentials)\n",
    "\n",
    "    # Ganti dengan ID video YouTube kamu\n",
    "    VIDEO_ID = \"lGnUBl3pCF8\"\n",
    "\n",
    "    # Ambil komentar dari video\n",
    "    request = youtube.commentThreads().list(\n",
    "        part=\"snippet\",\n",
    "        videoId=VIDEO_ID,\n",
    "        maxResults=100,\n",
    "        textFormat=\"plainText\"\n",
    "    )\n",
    "    response = request.execute()\n",
    "\n",
    "    for item in response[\"items\"]:\n",
    "        comment = item[\"snippet\"][\"topLevelComment\"]\n",
    "        comment_id = comment[\"id\"]\n",
    "        text = comment[\"snippet\"][\"textDisplay\"]\n",
    "\n",
    "        if is_spam(text):\n",
    "            print(f\"🚫 Komentar spam terdeteksi: {text}\")\n",
    "            # Set status komentar jadi \"rejected\"\n",
    "            youtube.comments().setModerationStatus(\n",
    "                id=comment_id,\n",
    "                moderationStatus=\"rejected\"\n",
    "            ).execute()\n",
    "            print(\"✅ Komentar berhasil dihapus\")\n",
    "\n",
    "if __name__ == \"__main__\":\n",
    "    main()"
   ]
  }
 ],
 "metadata": {
  "kernelspec": {
   "display_name": "env",
   "language": "python",
   "name": "python3"
  },
  "language_info": {
   "codemirror_mode": {
    "name": "ipython",
    "version": 3
   },
   "file_extension": ".py",
   "mimetype": "text/x-python",
   "name": "python",
   "nbconvert_exporter": "python",
   "pygments_lexer": "ipython3",
   "version": "3.10.4"
  },
  "orig_nbformat": 4
 },
 "nbformat": 4,
 "nbformat_minor": 2
}
